{
  "nbformat": 4,
  "nbformat_minor": 0,
  "metadata": {
    "colab": {
      "name": "kmean(FINAL).ipynb",
      "provenance": []
    },
    "kernelspec": {
      "name": "python3",
      "display_name": "Python 3"
    },
    "language_info": {
      "name": "python"
    }
  },
  "cells": [
    {
      "cell_type": "code",
      "source": [
        "import pandas as pd\n",
        "import matplotlib.pyplot as plt\n",
        "from sklearn.cluster import KMeans\n"
      ],
      "metadata": {
        "id": "iXF38blaRy4-"
      },
      "execution_count": 2,
      "outputs": []
    },
    {
      "cell_type": "code",
      "source": [
        "df=pd.read_csv('/content/data_numerical.csv')"
      ],
      "metadata": {
        "id": "XGGrKAqZSfqm"
      },
      "execution_count": 22,
      "outputs": []
    },
    {
      "cell_type": "code",
      "source": [
        "x = df[['gives_birth','aquatic_animal']]\n",
        "y = df[['class_label']]"
      ],
      "metadata": {
        "id": "Ic-jb0D1THs9"
      },
      "execution_count": 23,
      "outputs": []
    },
    {
      "cell_type": "code",
      "source": [
        "print(x)\n",
        "print(y)\n"
      ],
      "metadata": {
        "colab": {
          "base_uri": "https://localhost:8080/",
          "height": 0
        },
        "id": "tSOQQ2pBTxZL",
        "outputId": "0777db0d-dffc-4c6a-8633-e2a0cc731114"
      },
      "execution_count": 19,
      "outputs": [
        {
          "output_type": "stream",
          "name": "stdout",
          "text": [
            "   gives_birth  aquatic_animal\n",
            "0            1               0\n",
            "1            0               0\n",
            "2            0               1\n",
            "3            0               2\n",
            "4            1               0\n",
            "5            0               0\n",
            "6            1               0\n",
            "7            1               1\n",
            "8            0               2\n",
            "9            0               2\n",
            "   class_label\n",
            "0            0\n",
            "1            1\n",
            "2            2\n",
            "3            3\n",
            "4            4\n",
            "5            4\n",
            "6            0\n",
            "7            2\n",
            "8            3\n",
            "9            3\n"
          ]
        }
      ]
    },
    {
      "cell_type": "code",
      "source": [
        "plt.scatter(x['gives_birth'],x['aquatic_animal'],c=y.values.ravel())"
      ],
      "metadata": {
        "colab": {
          "base_uri": "https://localhost:8080/",
          "height": 282
        },
        "id": "3ytRiaO_Xo8_",
        "outputId": "f5637e75-7904-43b6-a5cd-c25367a3e092"
      },
      "execution_count": 31,
      "outputs": [
        {
          "output_type": "execute_result",
          "data": {
            "text/plain": [
              "<matplotlib.collections.PathCollection at 0x7fa95c442950>"
            ]
          },
          "metadata": {},
          "execution_count": 31
        },
        {
          "output_type": "display_data",
          "data": {
            "text/plain": [
              "<Figure size 432x288 with 1 Axes>"
            ],
            "image/png": "[encoded data removed]"
          },
          "metadata": {
            "needs_background": "light"
          }
        }
      ]
    },
    {
      "cell_type": "code",
      "source": [
        "km=KMeans(n_clusters=2)\n",
        "km.fit(x)\n",
        "centers=km.cluster_centers_\n",
        "labels=km.labels_\n",
        "print(labels)\n",
        "print(y.values.ravel())"
      ],
      "metadata": {
        "colab": {
          "base_uri": "https://localhost:8080/",
          "height": 0
        },
        "id": "Fz6uHuUhYAre",
        "outputId": "9a5d265e-f975-4339-acf5-08aea4638aff"
      },
      "execution_count": 33,
      "outputs": [
        {
          "output_type": "stream",
          "name": "stdout",
          "text": [
            "[1 1 0 0 1 1 1 1 0 0]\n",
            "[0 1 2 3 4 4 0 2 3 3]\n"
          ]
        }
      ]
    },
    {
      "cell_type": "code",
      "source": [
        "from matplotlib import axes\n",
        "\n",
        "fig,axes = plt.subplots(1,2,figsize=(16,4))\n",
        "axes[0].scatter(x['gives_birth'],x['aquatic_animal'],c=y.values.ravel())\n",
        "axes[1].scatter(x['gives_birth'],x['aquatic_animal'],c=labels)\n"
      ],
      "metadata": {
        "colab": {
          "base_uri": "https://localhost:8080/",
          "height": 282
        },
        "id": "cHlAMFnQitVo",
        "outputId": "9be7ffc9-12cf-4f68-f363-967efcb22154"
      },
      "execution_count": 41,
      "outputs": [
        {
          "output_type": "execute_result",
          "data": {
            "text/plain": [
              "<matplotlib.collections.PathCollection at 0x7fa95bffead0>"
            ]
          },
          "metadata": {},
          "execution_count": 41
        },
        {
          "output_type": "display_data",
          "data": {
            "text/plain": [
              "<Figure size 1152x288 with 2 Axes>"
            ],
            "image/png": "[encoded data removed]"
          },
          "metadata": {
            "needs_background": "light"
          }
        }
      ]
    }
  ]
}