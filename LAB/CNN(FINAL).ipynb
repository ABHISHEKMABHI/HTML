{
  "nbformat": 4,
  "nbformat_minor": 0,
  "metadata": {
    "colab": {
      "name": "CNN(FINAL).ipynb",
      "provenance": [],
      "collapsed_sections": []
    },
    "kernelspec": {
      "name": "python3",
      "display_name": "Python 3"
    },
    "language_info": {
      "name": "python"
    }
  },
  "cells": [
    {
      "cell_type": "code",
      "execution_count": null,
      "metadata": {
        "id": "PjMzSPrINWHl"
      },
      "outputs": [],
      "source": [
        "import tensorflow as tf\n",
        "from tensorflow.keras import datasets,layers,models\n",
        "import matplotlib.pyplot as plt\n",
        "import numpy as np\n",
        "from sklearn.metrics import classification_report"
      ]
    },
    {
      "cell_type": "code",
      "source": [
        "(x_train,y_train),(x_test,y_test)=datasets.cifar10.load_data()"
      ],
      "metadata": {
        "colab": {
          "base_uri": "https://localhost:8080/"
        },
        "id": "vFLmi_RVNasP",
        "outputId": "780544e8-6b75-49c6-a39a-ff64f5d63b68"
      },
      "execution_count": null,
      "outputs": [
        {
          "output_type": "stream",
          "name": "stdout",
          "text": [
            "Downloading data from https://www.cs.toronto.edu/~kriz/cifar-10-python.tar.gz\n",
            "170500096/170498071 [==============================] - 4s 0us/step\n",
            "170508288/170498071 [==============================] - 4s 0us/step\n"
          ]
        }
      ]
    },
    {
      "cell_type": "code",
      "source": [
        "x_train.shape"
      ],
      "metadata": {
        "colab": {
          "base_uri": "https://localhost:8080/"
        },
        "id": "cyk18EISNf2G",
        "outputId": "a71e59c1-77c1-4cc7-89e9-b94ecf8e54e7"
      },
      "execution_count": null,
      "outputs": [
        {
          "output_type": "execute_result",
          "data": {
            "text/plain": [
              "(50000, 32, 32, 3)"
            ]
          },
          "metadata": {},
          "execution_count": 3
        }
      ]
    },
    {
      "cell_type": "code",
      "source": [
        "x_test.shape"
      ],
      "metadata": {
        "colab": {
          "base_uri": "https://localhost:8080/"
        },
        "id": "LPXsRWGLNkCS",
        "outputId": "d9f698e1-ca72-413c-ed35-91deda2eea9d"
      },
      "execution_count": null,
      "outputs": [
        {
          "output_type": "execute_result",
          "data": {
            "text/plain": [
              "(10000, 32, 32, 3)"
            ]
          },
          "metadata": {},
          "execution_count": 4
        }
      ]
    },
    {
      "cell_type": "code",
      "source": [
        "classes=['airplane','automobile','bird','cat','deer','dog','frog','horse','ship','truck']"
      ],
      "metadata": {
        "id": "mS9hTfz3NtVW"
      },
      "execution_count": null,
      "outputs": []
    },
    {
      "cell_type": "code",
      "source": [
        "def plot_sample(x,y,index):\n",
        "  plt.figure(figsize=(14,2))\n",
        "  plt.imshow(x[index])\n",
        "  plt.xlabel(y[index])"
      ],
      "metadata": {
        "id": "SzruU3TYNuZL"
      },
      "execution_count": null,
      "outputs": []
    },
    {
      "cell_type": "code",
      "source": [
        "plot_sample(x_train,y_train,2)"
      ],
      "metadata": {
        "colab": {
          "base_uri": "https://localhost:8080/",
          "height": 228
        },
        "id": "RNaMOiuNN0VG",
        "outputId": "a594a724-f2e6-4659-a475-8dc47d764918"
      },
      "execution_count": null,
      "outputs": [
        {
          "output_type": "stream",
          "name": "stderr",
          "text": [
            "/usr/local/lib/python3.7/dist-packages/matplotlib/text.py:1165: FutureWarning: elementwise comparison failed; returning scalar instead, but in the future will perform elementwise comparison\n",
            "  if s != self._text:\n"
          ]
        },
        {
          "output_type": "display_data",
          "data": {
            "text/plain": [
              "<Figure size 1008x144 with 1 Axes>"
            ],
            "image/png": "[encoded data removed]"
          },
          "metadata": {
            "needs_background": "light"
          }
        }
      ]
    },
    {
      "cell_type": "code",
      "source": [
        "#normalize\n",
        "x_train=x_train/255\n",
        "x_test=x_test/255"
      ],
      "metadata": {
        "id": "J8ZlkM01N507"
      },
      "execution_count": null,
      "outputs": []
    },
    {
      "cell_type": "code",
      "source": [
        "#model\n",
        "cnn=models.Sequential()\n",
        "\n",
        "#feature extraction\n",
        "cnn.add(layers.Conv2D(filters=32,activation='relu',kernel_size=(3,3),input_shape=(32,32,3)))\n",
        "cnn.add(layers.MaxPooling2D(2,2))\n",
        "                       \n",
        "cnn.add(layers.Conv2D(filters=64,activation='relu',kernel_size=(3,3)))\n",
        "cnn.add(layers.MaxPooling2D(2,2))\n",
        "\n",
        "#classification\n",
        "cnn.add(layers.Flatten())\n",
        "cnn.add(layers.Dense(64,activation='relu'))\n",
        "cnn.add(layers.Dense(10))"
      ],
      "metadata": {
        "id": "1OydJi5iN67x"
      },
      "execution_count": null,
      "outputs": []
    },
    {
      "cell_type": "code",
      "source": [
        "cnn.summary()"
      ],
      "metadata": {
        "colab": {
          "base_uri": "https://localhost:8080/"
        },
        "id": "7kQ4_fswN-6m",
        "outputId": "7c01107b-6c62-4dea-f25a-34024a8f642b"
      },
      "execution_count": null,
      "outputs": [
        {
          "output_type": "stream",
          "name": "stdout",
          "text": [
            "Model: \"sequential\"\n",
            "_________________________________________________________________\n",
            " Layer (type)                Output Shape              Param #   \n",
            "=================================================================\n",
            " conv2d (Conv2D)             (None, 30, 30, 32)        896       \n",
            "                                                                 \n",
            " max_pooling2d (MaxPooling2D  (None, 15, 15, 32)       0         \n",
            " )                                                               \n",
            "                                                                 \n",
            " conv2d_1 (Conv2D)           (None, 13, 13, 64)        18496     \n",
            "                                                                 \n",
            " max_pooling2d_1 (MaxPooling  (None, 6, 6, 64)         0         \n",
            " 2D)                                                             \n",
            "                                                                 \n",
            " flatten (Flatten)           (None, 2304)              0         \n",
            "                                                                 \n",
            " dense (Dense)               (None, 64)                147520    \n",
            "                                                                 \n",
            " dense_1 (Dense)             (None, 10)                650       \n",
            "                                                                 \n",
            "=================================================================\n",
            "Total params: 167,562\n",
            "Trainable params: 167,562\n",
            "Non-trainable params: 0\n",
            "_________________________________________________________________\n"
          ]
        }
      ]
    },
    {
      "cell_type": "code",
      "source": [
        "cnn.compile(optimizer='adam',loss=tf.keras.losses.SparseCategoricalCrossentropy(from_logits=True),metrics=['accuracy'])"
      ],
      "metadata": {
        "id": "2VP3jKuzODJI"
      },
      "execution_count": null,
      "outputs": []
    },
    {
      "cell_type": "code",
      "source": [
        "cnn.fit(x_train,y_train,epochs=25,validation_data=(x_train,y_train))"
      ],
      "metadata": {
        "colab": {
          "base_uri": "https://localhost:8080/"
        },
        "id": "DsLVSPuWOJ7k",
        "outputId": "e89a9ca1-3640-4bbe-ee80-7af109f13cba"
      },
      "execution_count": null,
      "outputs": [
        {
          "output_type": "stream",
          "name": "stdout",
          "text": [
            "Epoch 1/25\n",
            "1563/1563 [==============================] - 83s 53ms/step - loss: 1.4558 - accuracy: 0.4769 - val_loss: 1.1607 - val_accuracy: 0.5881\n",
            "Epoch 2/25\n",
            "1563/1563 [==============================] - 81s 52ms/step - loss: 1.1037 - accuracy: 0.6141 - val_loss: 0.9710 - val_accuracy: 0.6639\n",
            "Epoch 3/25\n",
            "1563/1563 [==============================] - 81s 52ms/step - loss: 0.9668 - accuracy: 0.6624 - val_loss: 0.8701 - val_accuracy: 0.6980\n",
            "Epoch 4/25\n",
            "1563/1563 [==============================] - 80s 51ms/step - loss: 0.8878 - accuracy: 0.6904 - val_loss: 0.8247 - val_accuracy: 0.7108\n",
            "Epoch 5/25\n",
            "1563/1563 [==============================] - 80s 51ms/step - loss: 0.8242 - accuracy: 0.7148 - val_loss: 0.7342 - val_accuracy: 0.7449\n",
            "Epoch 6/25\n",
            "1563/1563 [==============================] - 81s 52ms/step - loss: 0.7704 - accuracy: 0.7328 - val_loss: 0.7136 - val_accuracy: 0.7503\n",
            "Epoch 7/25\n",
            "1563/1563 [==============================] - 81s 52ms/step - loss: 0.7265 - accuracy: 0.7462 - val_loss: 0.6750 - val_accuracy: 0.7656\n",
            "Epoch 8/25\n",
            "1563/1563 [==============================] - 81s 52ms/step - loss: 0.6824 - accuracy: 0.7623 - val_loss: 0.6044 - val_accuracy: 0.7917\n",
            "Epoch 9/25\n",
            "1563/1563 [==============================] - 81s 52ms/step - loss: 0.6469 - accuracy: 0.7745 - val_loss: 0.5851 - val_accuracy: 0.8006\n",
            "Epoch 10/25\n",
            "1563/1563 [==============================] - 81s 52ms/step - loss: 0.6090 - accuracy: 0.7869 - val_loss: 0.5421 - val_accuracy: 0.8089\n",
            "Epoch 11/25\n",
            "1563/1563 [==============================] - 81s 52ms/step - loss: 0.5816 - accuracy: 0.7961 - val_loss: 0.5191 - val_accuracy: 0.8205\n",
            "Epoch 12/25\n",
            "1563/1563 [==============================] - 79s 51ms/step - loss: 0.5548 - accuracy: 0.8048 - val_loss: 0.5005 - val_accuracy: 0.8244\n",
            "Epoch 13/25\n",
            "1563/1563 [==============================] - 80s 51ms/step - loss: 0.5231 - accuracy: 0.8168 - val_loss: 0.4600 - val_accuracy: 0.8403\n",
            "Epoch 14/25\n",
            "1563/1563 [==============================] - 81s 52ms/step - loss: 0.4966 - accuracy: 0.8272 - val_loss: 0.4186 - val_accuracy: 0.8570\n",
            "Epoch 15/25\n",
            "1563/1563 [==============================] - 80s 51ms/step - loss: 0.4730 - accuracy: 0.8330 - val_loss: 0.3955 - val_accuracy: 0.8633\n",
            "Epoch 16/25\n",
            "1563/1563 [==============================] - 80s 51ms/step - loss: 0.4446 - accuracy: 0.8451 - val_loss: 0.4030 - val_accuracy: 0.8576\n",
            "Epoch 17/25\n",
            "1563/1563 [==============================] - 81s 52ms/step - loss: 0.4243 - accuracy: 0.8492 - val_loss: 0.3954 - val_accuracy: 0.8595\n",
            "Epoch 18/25\n",
            "1563/1563 [==============================] - 82s 52ms/step - loss: 0.4042 - accuracy: 0.8573 - val_loss: 0.3798 - val_accuracy: 0.8645\n",
            "Epoch 19/25\n",
            "1563/1563 [==============================] - 82s 53ms/step - loss: 0.3780 - accuracy: 0.8668 - val_loss: 0.3002 - val_accuracy: 0.8966\n",
            "Epoch 20/25\n",
            "1563/1563 [==============================] - 83s 53ms/step - loss: 0.3633 - accuracy: 0.8706 - val_loss: 0.3379 - val_accuracy: 0.8807\n",
            "Epoch 21/25\n",
            "1563/1563 [==============================] - 82s 52ms/step - loss: 0.3444 - accuracy: 0.8767 - val_loss: 0.3018 - val_accuracy: 0.8921\n",
            "Epoch 22/25\n",
            "1563/1563 [==============================] - 82s 53ms/step - loss: 0.3269 - accuracy: 0.8846 - val_loss: 0.2798 - val_accuracy: 0.9016\n",
            "Epoch 23/25\n",
            "1563/1563 [==============================] - 82s 52ms/step - loss: 0.3112 - accuracy: 0.8887 - val_loss: 0.2594 - val_accuracy: 0.9098\n",
            "Epoch 24/25\n",
            "1563/1563 [==============================] - 82s 53ms/step - loss: 0.2964 - accuracy: 0.8934 - val_loss: 0.2966 - val_accuracy: 0.8932\n",
            "Epoch 25/25\n",
            "1563/1563 [==============================] - 82s 53ms/step - loss: 0.2802 - accuracy: 0.8985 - val_loss: 0.2347 - val_accuracy: 0.9177\n"
          ]
        },
        {
          "output_type": "execute_result",
          "data": {
            "text/plain": [
              "<keras.callbacks.History at 0x7fc3981dd150>"
            ]
          },
          "metadata": {},
          "execution_count": 12
        }
      ]
    },
    {
      "cell_type": "code",
      "source": [
        "y_pred=cnn.predict(x_test)"
      ],
      "metadata": {
        "id": "tZ58RgqaOLIX"
      },
      "execution_count": null,
      "outputs": []
    },
    {
      "cell_type": "code",
      "source": [
        "cnn.evaluate(x_test,y_test)"
      ],
      "metadata": {
        "colab": {
          "base_uri": "https://localhost:8080/"
        },
        "id": "O5vYu1s6WnL5",
        "outputId": "00e59ba8-80d3-4e2d-d6a8-c24105f620d4"
      },
      "execution_count": null,
      "outputs": [
        {
          "output_type": "stream",
          "name": "stdout",
          "text": [
            "313/313 [==============================] - 5s 15ms/step - loss: 1.4622 - accuracy: 0.6770\n"
          ]
        },
        {
          "output_type": "execute_result",
          "data": {
            "text/plain": [
              "[1.4622130393981934, 0.6769999861717224]"
            ]
          },
          "metadata": {},
          "execution_count": 14
        }
      ]
    },
    {
      "cell_type": "code",
      "source": [
        "y_test=y_test.reshape(-1)\n",
        "y_pred=cnn.predict(x_test)"
      ],
      "metadata": {
        "id": "QgyV-L_-Woc-"
      },
      "execution_count": null,
      "outputs": []
    },
    {
      "cell_type": "code",
      "source": [
        "y_classes=[np.argmax(element) for element in y_pred]\n",
        "print(\"classification report :\\n\",classification_report(y_test,y_classes))"
      ],
      "metadata": {
        "colab": {
          "base_uri": "https://localhost:8080/"
        },
        "id": "uJzZwIPMWuKt",
        "outputId": "95651ebf-7e47-4ca4-f1fa-67ec91c55c76"
      },
      "execution_count": null,
      "outputs": [
        {
          "output_type": "stream",
          "name": "stdout",
          "text": [
            "classification report :\n",
            "               precision    recall  f1-score   support\n",
            "\n",
            "           0       0.73      0.69      0.71      1000\n",
            "           1       0.79      0.80      0.80      1000\n",
            "           2       0.61      0.52      0.56      1000\n",
            "           3       0.48      0.50      0.49      1000\n",
            "           4       0.60      0.70      0.65      1000\n",
            "           5       0.54      0.61      0.57      1000\n",
            "           6       0.82      0.68      0.74      1000\n",
            "           7       0.72      0.72      0.72      1000\n",
            "           8       0.78      0.79      0.79      1000\n",
            "           9       0.74      0.77      0.75      1000\n",
            "\n",
            "    accuracy                           0.68     10000\n",
            "   macro avg       0.68      0.68      0.68     10000\n",
            "weighted avg       0.68      0.68      0.68     10000\n",
            "\n"
          ]
        }
      ]
    }
  ]
}